{
 "cells": [
  {
   "cell_type": "code",
   "execution_count": 1,
   "id": "91a0f8d6",
   "metadata": {},
   "outputs": [],
   "source": [
    "import numpy as np"
   ]
  },
  {
   "cell_type": "code",
   "execution_count": 2,
   "id": "383e9eca",
   "metadata": {},
   "outputs": [],
   "source": [
    "array_1 = np.array([1,2,3,4,5]) # Creating numpy array"
   ]
  },
  {
   "cell_type": "code",
   "execution_count": 3,
   "id": "cfc7dccd",
   "metadata": {},
   "outputs": [
    {
     "data": {
      "text/plain": [
       "array([1, 2, 3, 4, 5])"
      ]
     },
     "execution_count": 3,
     "metadata": {},
     "output_type": "execute_result"
    }
   ],
   "source": [
    "array_1"
   ]
  },
  {
   "cell_type": "markdown",
   "id": "f1e7c3c4",
   "metadata": {},
   "source": [
    "Creating multidimensional array"
   ]
  },
  {
   "cell_type": "code",
   "execution_count": 4,
   "id": "ec96f429",
   "metadata": {},
   "outputs": [],
   "source": [
    "array_2 = np.array(\n",
    "    [\n",
    "        [1,2,3],\n",
    "        [4,5,6]\n",
    "    ]\n",
    ")"
   ]
  },
  {
   "cell_type": "code",
   "execution_count": 5,
   "id": "1d8b3628",
   "metadata": {},
   "outputs": [
    {
     "data": {
      "text/plain": [
       "array([[1, 2, 3],\n",
       "       [4, 5, 6]])"
      ]
     },
     "execution_count": 5,
     "metadata": {},
     "output_type": "execute_result"
    }
   ],
   "source": [
    "array_2"
   ]
  },
  {
   "cell_type": "code",
   "execution_count": 6,
   "id": "2c31faf7",
   "metadata": {},
   "outputs": [],
   "source": [
    "array_3 = np.array([1,2,3,4,5,6,7,8,9,10])"
   ]
  },
  {
   "cell_type": "code",
   "execution_count": 7,
   "id": "66837134",
   "metadata": {},
   "outputs": [
    {
     "name": "stdout",
     "output_type": "stream",
     "text": [
      "[ 1  2  3  4  5  6  7  8  9 10]\n"
     ]
    }
   ],
   "source": [
    "print(array_3)"
   ]
  },
  {
   "cell_type": "code",
   "execution_count": 8,
   "id": "bfa50c6b",
   "metadata": {},
   "outputs": [
    {
     "data": {
      "text/plain": [
       "1"
      ]
     },
     "execution_count": 8,
     "metadata": {},
     "output_type": "execute_result"
    }
   ],
   "source": [
    "array_3.ndim # shows dimensions of array"
   ]
  },
  {
   "cell_type": "code",
   "execution_count": 9,
   "id": "3d52b995",
   "metadata": {},
   "outputs": [
    {
     "data": {
      "text/plain": [
       "(10,)"
      ]
     },
     "execution_count": 9,
     "metadata": {},
     "output_type": "execute_result"
    }
   ],
   "source": [
    "array_3.shape # shape of array (rows,columns)"
   ]
  },
  {
   "cell_type": "code",
   "execution_count": 11,
   "id": "88601074",
   "metadata": {},
   "outputs": [],
   "source": [
    "array_4 = np.array(\n",
    "    [\n",
    "        [1,2,3],\n",
    "        [4,5,6]\n",
    "    ]\n",
    ")"
   ]
  },
  {
   "cell_type": "code",
   "execution_count": 12,
   "id": "5fe16c23",
   "metadata": {},
   "outputs": [
    {
     "data": {
      "text/plain": [
       "(2, 3)"
      ]
     },
     "execution_count": 12,
     "metadata": {},
     "output_type": "execute_result"
    }
   ],
   "source": [
    "array_4.shape"
   ]
  },
  {
   "cell_type": "code",
   "execution_count": 10,
   "id": "f7f50f13",
   "metadata": {},
   "outputs": [
    {
     "data": {
      "text/plain": [
       "dtype('int32')"
      ]
     },
     "execution_count": 10,
     "metadata": {},
     "output_type": "execute_result"
    }
   ],
   "source": [
    "array_3.dtype # shows datatype of elements of array"
   ]
  },
  {
   "cell_type": "code",
   "execution_count": 14,
   "id": "a4fa17e1",
   "metadata": {},
   "outputs": [
    {
     "data": {
      "text/plain": [
       "array([[1, 2],\n",
       "       [3, 4],\n",
       "       [5, 6]])"
      ]
     },
     "execution_count": 14,
     "metadata": {},
     "output_type": "execute_result"
    }
   ],
   "source": [
    "rows = 3\n",
    "columns = 2\n",
    "array_4.reshape(rows,columns)"
   ]
  },
  {
   "cell_type": "markdown",
   "id": "214d0c2b",
   "metadata": {},
   "source": [
    "arange"
   ]
  },
  {
   "cell_type": "code",
   "execution_count": 15,
   "id": "cfdc0f9f",
   "metadata": {},
   "outputs": [],
   "source": [
    "#this is function creates the number between a range\n",
    "#you have to provide start point,end point,step\n",
    "start_point = 0\n",
    "end_point = 10\n",
    "step = 1\n",
    "array_5 = np.arange(start_point,end_point,step)"
   ]
  },
  {
   "cell_type": "code",
   "execution_count": 16,
   "id": "dd7f6599",
   "metadata": {},
   "outputs": [
    {
     "name": "stdout",
     "output_type": "stream",
     "text": [
      "[0 1 2 3 4 5 6 7 8 9]\n"
     ]
    }
   ],
   "source": [
    "print(array_5)"
   ]
  },
  {
   "cell_type": "code",
   "execution_count": 17,
   "id": "f0a72e2b",
   "metadata": {},
   "outputs": [],
   "source": [
    "end_point = 21\n",
    "array_6 = np.arange(end_point)\n",
    "# this will make array starting from 0 to 20"
   ]
  },
  {
   "cell_type": "code",
   "execution_count": 18,
   "id": "f86964ae",
   "metadata": {},
   "outputs": [
    {
     "name": "stdout",
     "output_type": "stream",
     "text": [
      "[ 0  1  2  3  4  5  6  7  8  9 10 11 12 13 14 15 16 17 18 19 20]\n"
     ]
    }
   ],
   "source": [
    "print(array_6)"
   ]
  },
  {
   "cell_type": "code",
   "execution_count": 19,
   "id": "bc8db322",
   "metadata": {},
   "outputs": [
    {
     "data": {
      "text/plain": [
       "array([[ 0,  1,  2],\n",
       "       [ 3,  4,  5],\n",
       "       [ 6,  7,  8],\n",
       "       [ 9, 10, 11],\n",
       "       [12, 13, 14],\n",
       "       [15, 16, 17],\n",
       "       [18, 19, 20]])"
      ]
     },
     "execution_count": 19,
     "metadata": {},
     "output_type": "execute_result"
    }
   ],
   "source": [
    "rows = 7\n",
    "columns = 3\n",
    "array_6.reshape(rows,columns)"
   ]
  },
  {
   "cell_type": "code",
   "execution_count": null,
   "id": "3323bc57",
   "metadata": {},
   "outputs": [],
   "source": []
  },
  {
   "cell_type": "code",
   "execution_count": null,
   "id": "0daacc72",
   "metadata": {},
   "outputs": [],
   "source": []
  },
  {
   "cell_type": "code",
   "execution_count": 21,
   "id": "e7de89d3",
   "metadata": {},
   "outputs": [],
   "source": [
    "start_point = 1\n",
    "end_Point = 21\n",
    "step = 2\n",
    "rows = 5\n",
    "columns = 2\n",
    "array_7 = np.arange(start_point,end_point,step).reshape(rows,columns)"
   ]
  },
  {
   "cell_type": "code",
   "execution_count": 22,
   "id": "0c33c1e9",
   "metadata": {},
   "outputs": [
    {
     "name": "stdout",
     "output_type": "stream",
     "text": [
      "[[ 1  3]\n",
      " [ 5  7]\n",
      " [ 9 11]\n",
      " [13 15]\n",
      " [17 19]]\n"
     ]
    }
   ],
   "source": [
    "print(array_7)"
   ]
  },
  {
   "cell_type": "code",
   "execution_count": null,
   "id": "a1dee59e",
   "metadata": {},
   "outputs": [],
   "source": []
  },
  {
   "cell_type": "code",
   "execution_count": 24,
   "id": "4c74df55",
   "metadata": {},
   "outputs": [
    {
     "data": {
      "text/plain": [
       "array([0. , 0.1, 0.2, 0.3, 0.4, 0.5, 0.6, 0.7, 0.8, 0.9, 1. , 1.1, 1.2,\n",
       "       1.3, 1.4, 1.5, 1.6, 1.7, 1.8, 1.9])"
      ]
     },
     "execution_count": 24,
     "metadata": {},
     "output_type": "execute_result"
    }
   ],
   "source": [
    "np.arange(0,2,0.1)"
   ]
  },
  {
   "cell_type": "code",
   "execution_count": null,
   "id": "8cc643d8",
   "metadata": {},
   "outputs": [],
   "source": []
  },
  {
   "cell_type": "code",
   "execution_count": null,
   "id": "23f1e307",
   "metadata": {},
   "outputs": [],
   "source": []
  },
  {
   "cell_type": "code",
   "execution_count": 31,
   "id": "5c705b8b",
   "metadata": {},
   "outputs": [],
   "source": [
    "rows = 3\n",
    "columns = 2\n",
    "array_8 = np.empty([rows,columns],dtype=np.complex64) \n",
    "# creates empty array with any values of given datatype"
   ]
  },
  {
   "cell_type": "code",
   "execution_count": 32,
   "id": "d425c93a",
   "metadata": {},
   "outputs": [
    {
     "name": "stdout",
     "output_type": "stream",
     "text": [
      "[[8.9683102e-44+0.0000000e+00j 0.0000000e+00+0.0000000e+00j]\n",
      " [5.2897435e+22+5.2431659e-08j 5.3406612e-08+2.5965680e+20j]\n",
      " [5.2941871e-08+3.3092588e+21j 1.6426634e-07+4.3683121e-05j]]\n"
     ]
    }
   ],
   "source": [
    "print(array_8)"
   ]
  },
  {
   "cell_type": "code",
   "execution_count": null,
   "id": "2c694eab",
   "metadata": {},
   "outputs": [],
   "source": []
  },
  {
   "cell_type": "code",
   "execution_count": null,
   "id": "db1c4a69",
   "metadata": {},
   "outputs": [],
   "source": []
  },
  {
   "cell_type": "code",
   "execution_count": 36,
   "id": "38743d55",
   "metadata": {},
   "outputs": [],
   "source": [
    "rows = 3\n",
    "columns = 3\n",
    "array_9 = np.zeros([rows,columns],dtype=np.float16)"
   ]
  },
  {
   "cell_type": "code",
   "execution_count": 37,
   "id": "d8f5eea1",
   "metadata": {},
   "outputs": [
    {
     "name": "stdout",
     "output_type": "stream",
     "text": [
      "[[0. 0. 0.]\n",
      " [0. 0. 0.]\n",
      " [0. 0. 0.]]\n"
     ]
    }
   ],
   "source": [
    "print(array_9)"
   ]
  },
  {
   "cell_type": "code",
   "execution_count": null,
   "id": "d05baf0e",
   "metadata": {},
   "outputs": [],
   "source": []
  },
  {
   "cell_type": "code",
   "execution_count": 38,
   "id": "c853b90d",
   "metadata": {},
   "outputs": [],
   "source": [
    "rows = 3\n",
    "columns = 4\n",
    "array_10 = np.ones([rows,columns])"
   ]
  },
  {
   "cell_type": "code",
   "execution_count": 39,
   "id": "c1089a55",
   "metadata": {},
   "outputs": [
    {
     "name": "stdout",
     "output_type": "stream",
     "text": [
      "[[1. 1. 1. 1.]\n",
      " [1. 1. 1. 1.]\n",
      " [1. 1. 1. 1.]]\n"
     ]
    }
   ],
   "source": [
    "print(array_10)"
   ]
  },
  {
   "cell_type": "code",
   "execution_count": null,
   "id": "18a7bce2",
   "metadata": {},
   "outputs": [],
   "source": []
  },
  {
   "cell_type": "code",
   "execution_count": null,
   "id": "254ccdcb",
   "metadata": {},
   "outputs": [],
   "source": []
  }
 ],
 "metadata": {
  "kernelspec": {
   "display_name": "Python 3",
   "language": "python",
   "name": "python3"
  },
  "language_info": {
   "codemirror_mode": {
    "name": "ipython",
    "version": 3
   },
   "file_extension": ".py",
   "mimetype": "text/x-python",
   "name": "python",
   "nbconvert_exporter": "python",
   "pygments_lexer": "ipython3",
   "version": "3.8.8"
  }
 },
 "nbformat": 4,
 "nbformat_minor": 5
}
