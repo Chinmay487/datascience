{
 "cells": [
  {
   "cell_type": "markdown",
   "id": "58c7dc5d",
   "metadata": {},
   "source": [
    "1. Pandas is used to analyze big data and make conclusions based on statistical theories\n",
    "\n",
    "2. Pandas is typically used to clean messy data and make them readable and simple to access\n",
    "\n",
    "3. Pandas can give co-relation between two or more columns\n",
    "\n",
    "4. It can also help us in doing all statistical methodologies as well as ploting and creating graphs\n",
    "\n",
    "5. Pandas allow various data manipulation operations such as merging, sekecting as well as  data cleaning\n",
    "\n",
    "6. Pandas allow importing data from various file formats sudh as JSON,SQL,microsoft excel\n",
    "\n",
    "7. we can handle null values and do various operations related with stats\n",
    "\n",
    "8. We can also use various inbuild graphs and charts available in pandas and can generate reports"
   ]
  },
  {
   "cell_type": "code",
   "execution_count": null,
   "id": "89956d7b",
   "metadata": {},
   "outputs": [],
   "source": []
  },
  {
   "cell_type": "code",
   "execution_count": 1,
   "id": "ab99e646",
   "metadata": {},
   "outputs": [],
   "source": [
    "import pandas as pd\n",
    "import numpy as np"
   ]
  },
  {
   "cell_type": "code",
   "execution_count": null,
   "id": "a69b955b",
   "metadata": {},
   "outputs": [],
   "source": []
  },
  {
   "cell_type": "code",
   "execution_count": 2,
   "id": "e7e17537",
   "metadata": {},
   "outputs": [],
   "source": [
    "array_1 = np.array([10,20,30,40,50])"
   ]
  },
  {
   "cell_type": "code",
   "execution_count": 3,
   "id": "571b2667",
   "metadata": {},
   "outputs": [
    {
     "name": "stdout",
     "output_type": "stream",
     "text": [
      "[10 20 30 40 50]\n"
     ]
    }
   ],
   "source": [
    "print(array_1)"
   ]
  },
  {
   "cell_type": "code",
   "execution_count": null,
   "id": "3d63eca7",
   "metadata": {},
   "outputs": [],
   "source": []
  },
  {
   "cell_type": "markdown",
   "id": "4895283f",
   "metadata": {},
   "source": [
    "## Series"
   ]
  },
  {
   "cell_type": "markdown",
   "id": "748afb59",
   "metadata": {},
   "source": [
    "A series is a 1 Dimensional Array like oject containing sequence of values (similar to that of numoy) and an associated array of data label called as indexes"
   ]
  },
  {
   "cell_type": "code",
   "execution_count": 4,
   "id": "82a7cb3c",
   "metadata": {},
   "outputs": [],
   "source": [
    "#How to create Series\n",
    "series_1 = pd.Series([10,20,30,40,50])\n",
    "# here make shure 'S' is uppercase\n"
   ]
  },
  {
   "cell_type": "code",
   "execution_count": 5,
   "id": "17838cce",
   "metadata": {},
   "outputs": [
    {
     "name": "stdout",
     "output_type": "stream",
     "text": [
      "0    10\n",
      "1    20\n",
      "2    30\n",
      "3    40\n",
      "4    50\n",
      "dtype: int64\n"
     ]
    }
   ],
   "source": [
    "print(series_1)"
   ]
  },
  {
   "cell_type": "code",
   "execution_count": null,
   "id": "c0955dd6",
   "metadata": {},
   "outputs": [],
   "source": []
  },
  {
   "cell_type": "markdown",
   "id": "9a8b68a1",
   "metadata": {},
   "source": [
    "in Series we also can give custom indexing"
   ]
  },
  {
   "cell_type": "code",
   "execution_count": 6,
   "id": "8e95af85",
   "metadata": {},
   "outputs": [],
   "source": [
    "array_2 = [10,20,30,40,50]\n",
    "index = ['a','b','c','d','e']\n",
    "series_2 = pd.Series(array_2,index=index)"
   ]
  },
  {
   "cell_type": "code",
   "execution_count": 7,
   "id": "2c94a9a0",
   "metadata": {},
   "outputs": [
    {
     "name": "stdout",
     "output_type": "stream",
     "text": [
      "a    10\n",
      "b    20\n",
      "c    30\n",
      "d    40\n",
      "e    50\n",
      "dtype: int64\n"
     ]
    }
   ],
   "source": [
    "print(series_2)"
   ]
  },
  {
   "cell_type": "code",
   "execution_count": 8,
   "id": "932fc6b2",
   "metadata": {},
   "outputs": [
    {
     "name": "stdout",
     "output_type": "stream",
     "text": [
      "10 20 50\n"
     ]
    }
   ],
   "source": [
    "# How to access element using custom index\n",
    "print(series_2['a'],series_2['b'],series_2['e'])"
   ]
  },
  {
   "cell_type": "code",
   "execution_count": null,
   "id": "23f4d949",
   "metadata": {},
   "outputs": [],
   "source": []
  },
  {
   "cell_type": "code",
   "execution_count": 9,
   "id": "7f028fa1",
   "metadata": {},
   "outputs": [
    {
     "name": "stdout",
     "output_type": "stream",
     "text": [
      "Mumbai     200\n",
      "Chennai    300\n",
      "Delhi      400\n",
      "Jaipur     500\n",
      "dtype: int64\n"
     ]
    }
   ],
   "source": [
    "series_4 = pd.Series(\n",
    "    [200,300,400,500],\n",
    "    index = ['Mumbai','Chennai','Delhi','Jaipur']\n",
    ")\n",
    "print(series_4)"
   ]
  },
  {
   "cell_type": "code",
   "execution_count": 10,
   "id": "e1780a28",
   "metadata": {},
   "outputs": [
    {
     "data": {
      "text/plain": [
       "Index(['Mumbai', 'Chennai', 'Delhi', 'Jaipur'], dtype='object')"
      ]
     },
     "execution_count": 10,
     "metadata": {},
     "output_type": "execute_result"
    }
   ],
   "source": [
    "# How to viw only indexes\n",
    "series_4.index"
   ]
  },
  {
   "cell_type": "code",
   "execution_count": 11,
   "id": "c155e5d0",
   "metadata": {},
   "outputs": [],
   "source": [
    "# How to update value at perticular index\n",
    "series_4['Delhi']=700"
   ]
  },
  {
   "cell_type": "code",
   "execution_count": 12,
   "id": "ce0aecf1",
   "metadata": {},
   "outputs": [
    {
     "name": "stdout",
     "output_type": "stream",
     "text": [
      "Mumbai     200\n",
      "Chennai    300\n",
      "Delhi      700\n",
      "Jaipur     500\n",
      "dtype: int64\n"
     ]
    }
   ],
   "source": [
    "print(series_4)"
   ]
  },
  {
   "cell_type": "code",
   "execution_count": null,
   "id": "fa7f5fa4",
   "metadata": {},
   "outputs": [],
   "source": []
  },
  {
   "cell_type": "code",
   "execution_count": 13,
   "id": "7bfdc7ba",
   "metadata": {},
   "outputs": [
    {
     "data": {
      "text/plain": [
       "Mumbai     False\n",
       "Chennai     True\n",
       "Delhi       True\n",
       "Jaipur      True\n",
       "dtype: bool"
      ]
     },
     "execution_count": 13,
     "metadata": {},
     "output_type": "execute_result"
    }
   ],
   "source": [
    "# How to get output using filteration boolean\n",
    "series_4 >= 300"
   ]
  },
  {
   "cell_type": "code",
   "execution_count": 14,
   "id": "a6b56700",
   "metadata": {},
   "outputs": [
    {
     "data": {
      "text/plain": [
       "Delhi     700\n",
       "Jaipur    500\n",
       "dtype: int64"
      ]
     },
     "execution_count": 14,
     "metadata": {},
     "output_type": "execute_result"
    }
   ],
   "source": [
    "# How to get actual values after filter\n",
    "series_4[series_4 > 300]"
   ]
  },
  {
   "cell_type": "code",
   "execution_count": 15,
   "id": "20dddd41",
   "metadata": {},
   "outputs": [
    {
     "data": {
      "text/plain": [
       "Mumbai    200\n",
       "dtype: int64"
      ]
     },
     "execution_count": 15,
     "metadata": {},
     "output_type": "execute_result"
    }
   ],
   "source": [
    "series_4[series_4 < 300]"
   ]
  },
  {
   "cell_type": "code",
   "execution_count": null,
   "id": "339c7ead",
   "metadata": {},
   "outputs": [],
   "source": []
  },
  {
   "cell_type": "code",
   "execution_count": 16,
   "id": "ae0aa81a",
   "metadata": {},
   "outputs": [
    {
     "name": "stdout",
     "output_type": "stream",
     "text": [
      "Mumbai     200\n",
      "Chennai    300\n",
      "Delhi      400\n",
      "Jaipur     500\n",
      "dtype: int64\n"
     ]
    }
   ],
   "source": [
    "series_5 = pd.Series(\n",
    "    [200,300,400,500],\n",
    "    index = ['Mumbai','Chennai','Delhi','Jaipur']\n",
    ")\n",
    "print(series_5)"
   ]
  },
  {
   "cell_type": "markdown",
   "id": "536e024e",
   "metadata": {},
   "source": [
    "how to perform some basic operations"
   ]
  },
  {
   "cell_type": "code",
   "execution_count": 17,
   "id": "21a58a15",
   "metadata": {},
   "outputs": [],
   "source": [
    "result_1 = series_5 * 2"
   ]
  },
  {
   "cell_type": "code",
   "execution_count": 18,
   "id": "300b45b4",
   "metadata": {},
   "outputs": [
    {
     "name": "stdout",
     "output_type": "stream",
     "text": [
      "Mumbai      400\n",
      "Chennai     600\n",
      "Delhi       800\n",
      "Jaipur     1000\n",
      "dtype: int64\n"
     ]
    }
   ],
   "source": [
    "print(result_1)"
   ]
  },
  {
   "cell_type": "code",
   "execution_count": 19,
   "id": "a715b3c8",
   "metadata": {},
   "outputs": [
    {
     "name": "stdout",
     "output_type": "stream",
     "text": [
      "Before appling multiplication : \n",
      "Mumbai     200\n",
      "Chennai    300\n",
      "Delhi      400\n",
      "Jaipur     500\n",
      "dtype: int64\n"
     ]
    }
   ],
   "source": [
    "print(\"Before appling multiplication : \")\n",
    "print(series_5)"
   ]
  },
  {
   "cell_type": "code",
   "execution_count": 20,
   "id": "afb8cd97",
   "metadata": {},
   "outputs": [],
   "source": [
    "series_5 *= 2"
   ]
  },
  {
   "cell_type": "code",
   "execution_count": 21,
   "id": "78c4e492",
   "metadata": {},
   "outputs": [
    {
     "name": "stdout",
     "output_type": "stream",
     "text": [
      "after appling multiplication : \n",
      "Mumbai      400\n",
      "Chennai     600\n",
      "Delhi       800\n",
      "Jaipur     1000\n",
      "dtype: int64\n"
     ]
    }
   ],
   "source": [
    "print('after appling multiplication : ')\n",
    "print(series_5)"
   ]
  },
  {
   "cell_type": "code",
   "execution_count": null,
   "id": "541a8ad4",
   "metadata": {},
   "outputs": [],
   "source": []
  },
  {
   "cell_type": "markdown",
   "id": "bfa0ccc7",
   "metadata": {},
   "source": [
    "## Creating Series using Dictionary "
   ]
  },
  {
   "cell_type": "code",
   "execution_count": 22,
   "id": "707a7ed1",
   "metadata": {},
   "outputs": [],
   "source": [
    "cities = {\n",
    "    'Pune':35_000,\n",
    "    'Nagpur':49_000,\n",
    "    'Mumbai':88_000,\n",
    "    'Nasik':30_000\n",
    "}"
   ]
  },
  {
   "cell_type": "code",
   "execution_count": 23,
   "id": "e95426e4",
   "metadata": {},
   "outputs": [
    {
     "name": "stdout",
     "output_type": "stream",
     "text": [
      "{'Pune': 35000, 'Nagpur': 49000, 'Mumbai': 88000, 'Nasik': 30000}\n"
     ]
    }
   ],
   "source": [
    "print(cities)"
   ]
  },
  {
   "cell_type": "code",
   "execution_count": 24,
   "id": "b6c1f9ed",
   "metadata": {},
   "outputs": [],
   "source": [
    "series_6 = pd.Series(cities)"
   ]
  },
  {
   "cell_type": "code",
   "execution_count": 25,
   "id": "6f9fd435",
   "metadata": {},
   "outputs": [
    {
     "name": "stdout",
     "output_type": "stream",
     "text": [
      "Pune      35000\n",
      "Nagpur    49000\n",
      "Mumbai    88000\n",
      "Nasik     30000\n",
      "dtype: int64\n"
     ]
    }
   ],
   "source": [
    "print(series_6)"
   ]
  },
  {
   "cell_type": "code",
   "execution_count": null,
   "id": "79dc7ffe",
   "metadata": {},
   "outputs": [],
   "source": []
  },
  {
   "cell_type": "code",
   "execution_count": 26,
   "id": "a8d9d76f",
   "metadata": {},
   "outputs": [],
   "source": [
    "cities_2 = {\n",
    "    'Pune':35_000,\n",
    "    'Nagpur':49_000,\n",
    "    'Mumbai':88_000,\n",
    "    'Nashik':30_000,\n",
    "    'delhi':None\n",
    "}"
   ]
  },
  {
   "cell_type": "code",
   "execution_count": 27,
   "id": "18009353",
   "metadata": {},
   "outputs": [],
   "source": [
    "series_7 = pd.Series(cities_2)"
   ]
  },
  {
   "cell_type": "code",
   "execution_count": 28,
   "id": "67557cd3",
   "metadata": {},
   "outputs": [
    {
     "name": "stdout",
     "output_type": "stream",
     "text": [
      "Pune      35000.0\n",
      "Nagpur    49000.0\n",
      "Mumbai    88000.0\n",
      "Nashik    30000.0\n",
      "delhi         NaN\n",
      "dtype: float64\n"
     ]
    }
   ],
   "source": [
    "print(series_7)"
   ]
  },
  {
   "cell_type": "code",
   "execution_count": null,
   "id": "eb833b44",
   "metadata": {},
   "outputs": [],
   "source": []
  },
  {
   "cell_type": "markdown",
   "id": "03ff1c79",
   "metadata": {},
   "source": [
    "## Identifying not null values "
   ]
  },
  {
   "cell_type": "code",
   "execution_count": 29,
   "id": "5342152a",
   "metadata": {},
   "outputs": [
    {
     "name": "stdout",
     "output_type": "stream",
     "text": [
      "Pune      35000.0\n",
      "Nagpur    49000.0\n",
      "Mumbai    88000.0\n",
      "Nashik    30000.0\n",
      "delhi         NaN\n",
      "dtype: float64\n"
     ]
    }
   ],
   "source": [
    "print(series_7)"
   ]
  },
  {
   "cell_type": "code",
   "execution_count": 30,
   "id": "c38ace51",
   "metadata": {},
   "outputs": [
    {
     "data": {
      "text/plain": [
       "Pune      False\n",
       "Nagpur    False\n",
       "Mumbai    False\n",
       "Nashik    False\n",
       "delhi      True\n",
       "dtype: bool"
      ]
     },
     "execution_count": 30,
     "metadata": {},
     "output_type": "execute_result"
    }
   ],
   "source": [
    "pd.isnull(series_7)\n",
    "# isnull will return true if value is nan or None\n",
    "# else it will return false"
   ]
  },
  {
   "cell_type": "code",
   "execution_count": 31,
   "id": "2f9accf1",
   "metadata": {},
   "outputs": [
    {
     "data": {
      "text/plain": [
       "Pune       True\n",
       "Nagpur     True\n",
       "Mumbai     True\n",
       "Nashik     True\n",
       "delhi     False\n",
       "dtype: bool"
      ]
     },
     "execution_count": 31,
     "metadata": {},
     "output_type": "execute_result"
    }
   ],
   "source": [
    "pd.notnull(series_7)\n",
    "# notnull is opposite of isnull\n",
    "# this will return True if value in not nan or not None\n",
    "# else it will return False"
   ]
  },
  {
   "cell_type": "code",
   "execution_count": null,
   "id": "aed92922",
   "metadata": {},
   "outputs": [],
   "source": []
  },
  {
   "cell_type": "code",
   "execution_count": 32,
   "id": "5dea9dbd",
   "metadata": {},
   "outputs": [
    {
     "name": "stdout",
     "output_type": "stream",
     "text": [
      "Pune      35000.0\n",
      "Nagpur    49000.0\n",
      "Mumbai    88000.0\n",
      "Nashik    30000.0\n",
      "delhi         NaN\n",
      "dtype: float64\n"
     ]
    }
   ],
   "source": [
    "print(series_7)"
   ]
  },
  {
   "cell_type": "code",
   "execution_count": 34,
   "id": "e057f800",
   "metadata": {},
   "outputs": [
    {
     "name": "stdout",
     "output_type": "stream",
     "text": [
      "Pune       1000\n",
      "Nagpur     2000\n",
      "Chennai    3000\n",
      "Delhi      4000\n",
      "Mumbai     5000\n",
      "dtype: int64\n"
     ]
    }
   ],
   "source": [
    "series_8 = pd.Series(\n",
    "    {\n",
    "        'Pune':1000,\n",
    "        'Nagpur':2000,\n",
    "        'Chennai':3000,\n",
    "        'Delhi':4000,\n",
    "        'Mumbai':5000\n",
    "    }\n",
    ")\n",
    "print(series_8)"
   ]
  },
  {
   "cell_type": "code",
   "execution_count": 37,
   "id": "76ef8f68",
   "metadata": {},
   "outputs": [],
   "source": [
    "series_9 = series_7 + series_8"
   ]
  },
  {
   "cell_type": "code",
   "execution_count": 38,
   "id": "288d0293",
   "metadata": {},
   "outputs": [
    {
     "name": "stdout",
     "output_type": "stream",
     "text": [
      "Chennai        NaN\n",
      "Delhi          NaN\n",
      "Mumbai     93000.0\n",
      "Nagpur     51000.0\n",
      "Nashik         NaN\n",
      "Pune       36000.0\n",
      "delhi          NaN\n",
      "dtype: float64\n"
     ]
    }
   ],
   "source": [
    "print(series_9)"
   ]
  },
  {
   "cell_type": "markdown",
   "id": "642600c6",
   "metadata": {},
   "source": [
    "from above example we can clearly see that to add series_7 and series_8 \n",
    "they both need same indixes in case of custom indexes"
   ]
  },
  {
   "cell_type": "code",
   "execution_count": 40,
   "id": "1f501006",
   "metadata": {},
   "outputs": [
    {
     "name": "stdout",
     "output_type": "stream",
     "text": [
      "A    Mum\n",
      "B    Del\n",
      "C    Hyd\n",
      "dtype: object\n",
      "\n",
      "A    Mah\n",
      "P    Ind\n",
      "Q     Ap\n",
      "dtype: object\n"
     ]
    }
   ],
   "source": [
    "series_10 = pd.Series(\n",
    "    ['Mum','Del','Hyd'],\n",
    "    index = ['A','B','C']\n",
    ")\n",
    "\n",
    "series_11 = pd.Series(\n",
    "    ['Mah','Ind','Ap'],\n",
    "    index = ['A','P','Q']\n",
    ")\n",
    "\n",
    "print(f\"{series_10}\\n\\n{series_11}\")"
   ]
  },
  {
   "cell_type": "code",
   "execution_count": 42,
   "id": "60e62851",
   "metadata": {},
   "outputs": [],
   "source": [
    "series_12 = series_10 + series_11"
   ]
  },
  {
   "cell_type": "code",
   "execution_count": 43,
   "id": "d2c53ea0",
   "metadata": {},
   "outputs": [
    {
     "name": "stdout",
     "output_type": "stream",
     "text": [
      "A    MumMah\n",
      "B       NaN\n",
      "C       NaN\n",
      "P       NaN\n",
      "Q       NaN\n",
      "dtype: object\n"
     ]
    }
   ],
   "source": [
    "print(series_12)"
   ]
  },
  {
   "cell_type": "code",
   "execution_count": null,
   "id": "3cb94efa",
   "metadata": {},
   "outputs": [],
   "source": []
  },
  {
   "cell_type": "markdown",
   "id": "73e21e1b",
   "metadata": {},
   "source": [
    "## Data Frame "
   ]
  },
  {
   "cell_type": "raw",
   "id": "a0e8f952",
   "metadata": {},
   "source": [
    "A DataFrame represents a rectangular table of data and containts ordered \n",
    "collection of columns each of which can be different data type (Numeric,Boolean,String,etc.)\n",
    "\n",
    "The Dataframe has both row and column index,it can e thought as a collection of series all sharing the same index.The data is stored in one or more 2-D block rather than a list or dictionary or other collection of 1-D array"
   ]
  },
  {
   "cell_type": "code",
   "execution_count": null,
   "id": "8fa3b5ca",
   "metadata": {},
   "outputs": [],
   "source": []
  },
  {
   "cell_type": "markdown",
   "id": "943fa5ca",
   "metadata": {},
   "source": [
    "how to create dataFrame"
   ]
  },
  {
   "cell_type": "code",
   "execution_count": 44,
   "id": "a5a03307",
   "metadata": {},
   "outputs": [],
   "source": [
    "data = {\n",
    "    'State':['Mumbai','Pune','Chennai','Nagput','Delhi'],\n",
    "    'year':[2001,20011,2018,2019,2020],\n",
    "    'pop':[1.5,1.6,1.7,3.6,3.2]\n",
    "}"
   ]
  },
  {
   "cell_type": "code",
   "execution_count": 45,
   "id": "054eb7d8",
   "metadata": {},
   "outputs": [],
   "source": [
    "df1 = pd.DataFrame(data)"
   ]
  },
  {
   "cell_type": "code",
   "execution_count": 46,
   "id": "23c918c3",
   "metadata": {},
   "outputs": [
    {
     "name": "stdout",
     "output_type": "stream",
     "text": [
      "     State   year  pop\n",
      "0   Mumbai   2001  1.5\n",
      "1     Pune  20011  1.6\n",
      "2  Chennai   2018  1.7\n",
      "3   Nagput   2019  3.6\n",
      "4    Delhi   2020  3.2\n"
     ]
    }
   ],
   "source": [
    "print(df1)"
   ]
  },
  {
   "cell_type": "code",
   "execution_count": 47,
   "id": "f6e76b1e",
   "metadata": {},
   "outputs": [
    {
     "data": {
      "text/html": [
       "<div>\n",
       "<style scoped>\n",
       "    .dataframe tbody tr th:only-of-type {\n",
       "        vertical-align: middle;\n",
       "    }\n",
       "\n",
       "    .dataframe tbody tr th {\n",
       "        vertical-align: top;\n",
       "    }\n",
       "\n",
       "    .dataframe thead th {\n",
       "        text-align: right;\n",
       "    }\n",
       "</style>\n",
       "<table border=\"1\" class=\"dataframe\">\n",
       "  <thead>\n",
       "    <tr style=\"text-align: right;\">\n",
       "      <th></th>\n",
       "      <th>State</th>\n",
       "      <th>year</th>\n",
       "      <th>pop</th>\n",
       "    </tr>\n",
       "  </thead>\n",
       "  <tbody>\n",
       "    <tr>\n",
       "      <th>0</th>\n",
       "      <td>Mumbai</td>\n",
       "      <td>2001</td>\n",
       "      <td>1.5</td>\n",
       "    </tr>\n",
       "    <tr>\n",
       "      <th>1</th>\n",
       "      <td>Pune</td>\n",
       "      <td>20011</td>\n",
       "      <td>1.6</td>\n",
       "    </tr>\n",
       "    <tr>\n",
       "      <th>2</th>\n",
       "      <td>Chennai</td>\n",
       "      <td>2018</td>\n",
       "      <td>1.7</td>\n",
       "    </tr>\n",
       "    <tr>\n",
       "      <th>3</th>\n",
       "      <td>Nagput</td>\n",
       "      <td>2019</td>\n",
       "      <td>3.6</td>\n",
       "    </tr>\n",
       "    <tr>\n",
       "      <th>4</th>\n",
       "      <td>Delhi</td>\n",
       "      <td>2020</td>\n",
       "      <td>3.2</td>\n",
       "    </tr>\n",
       "  </tbody>\n",
       "</table>\n",
       "</div>"
      ],
      "text/plain": [
       "     State   year  pop\n",
       "0   Mumbai   2001  1.5\n",
       "1     Pune  20011  1.6\n",
       "2  Chennai   2018  1.7\n",
       "3   Nagput   2019  3.6\n",
       "4    Delhi   2020  3.2"
      ]
     },
     "execution_count": 47,
     "metadata": {},
     "output_type": "execute_result"
    }
   ],
   "source": [
    "df1"
   ]
  },
  {
   "cell_type": "code",
   "execution_count": 49,
   "id": "011166c4",
   "metadata": {},
   "outputs": [
    {
     "name": "stdout",
     "output_type": "stream",
     "text": [
      "0     Mumbai\n",
      "1       Pune\n",
      "2    Chennai\n",
      "3     Nagput\n",
      "4      Delhi\n",
      "Name: State, dtype: object\n",
      "\n",
      "0     2001\n",
      "1    20011\n",
      "2     2018\n",
      "3     2019\n",
      "4     2020\n",
      "Name: year, dtype: int64\n",
      "\n",
      "0    1.5\n",
      "1    1.6\n",
      "2    1.7\n",
      "3    3.6\n",
      "4    3.2\n",
      "Name: pop, dtype: float64\n",
      "\n"
     ]
    }
   ],
   "source": [
    "#how to access columns\n",
    "print(df1['State'],end='\\n\\n')\n",
    "print(df1['year'],end='\\n\\n')\n",
    "print(df1['pop'],end='\\n\\n')"
   ]
  },
  {
   "cell_type": "code",
   "execution_count": 50,
   "id": "a35329a8",
   "metadata": {},
   "outputs": [
    {
     "data": {
      "text/html": [
       "<div>\n",
       "<style scoped>\n",
       "    .dataframe tbody tr th:only-of-type {\n",
       "        vertical-align: middle;\n",
       "    }\n",
       "\n",
       "    .dataframe tbody tr th {\n",
       "        vertical-align: top;\n",
       "    }\n",
       "\n",
       "    .dataframe thead th {\n",
       "        text-align: right;\n",
       "    }\n",
       "</style>\n",
       "<table border=\"1\" class=\"dataframe\">\n",
       "  <thead>\n",
       "    <tr style=\"text-align: right;\">\n",
       "      <th></th>\n",
       "      <th>State</th>\n",
       "      <th>year</th>\n",
       "      <th>pop</th>\n",
       "    </tr>\n",
       "  </thead>\n",
       "  <tbody>\n",
       "    <tr>\n",
       "      <th>0</th>\n",
       "      <td>Mumbai</td>\n",
       "      <td>2001</td>\n",
       "      <td>1.5</td>\n",
       "    </tr>\n",
       "    <tr>\n",
       "      <th>1</th>\n",
       "      <td>Pune</td>\n",
       "      <td>20011</td>\n",
       "      <td>1.6</td>\n",
       "    </tr>\n",
       "    <tr>\n",
       "      <th>2</th>\n",
       "      <td>Chennai</td>\n",
       "      <td>2018</td>\n",
       "      <td>1.7</td>\n",
       "    </tr>\n",
       "  </tbody>\n",
       "</table>\n",
       "</div>"
      ],
      "text/plain": [
       "     State   year  pop\n",
       "0   Mumbai   2001  1.5\n",
       "1     Pune  20011  1.6\n",
       "2  Chennai   2018  1.7"
      ]
     },
     "execution_count": 50,
     "metadata": {},
     "output_type": "execute_result"
    }
   ],
   "source": [
    "# How to print first n number of values\n",
    "df1.head(3)"
   ]
  },
  {
   "cell_type": "code",
   "execution_count": 51,
   "id": "081235b3",
   "metadata": {},
   "outputs": [
    {
     "data": {
      "text/html": [
       "<div>\n",
       "<style scoped>\n",
       "    .dataframe tbody tr th:only-of-type {\n",
       "        vertical-align: middle;\n",
       "    }\n",
       "\n",
       "    .dataframe tbody tr th {\n",
       "        vertical-align: top;\n",
       "    }\n",
       "\n",
       "    .dataframe thead th {\n",
       "        text-align: right;\n",
       "    }\n",
       "</style>\n",
       "<table border=\"1\" class=\"dataframe\">\n",
       "  <thead>\n",
       "    <tr style=\"text-align: right;\">\n",
       "      <th></th>\n",
       "      <th>State</th>\n",
       "      <th>year</th>\n",
       "      <th>pop</th>\n",
       "    </tr>\n",
       "  </thead>\n",
       "  <tbody>\n",
       "    <tr>\n",
       "      <th>0</th>\n",
       "      <td>Mumbai</td>\n",
       "      <td>2001</td>\n",
       "      <td>1.5</td>\n",
       "    </tr>\n",
       "    <tr>\n",
       "      <th>1</th>\n",
       "      <td>Pune</td>\n",
       "      <td>20011</td>\n",
       "      <td>1.6</td>\n",
       "    </tr>\n",
       "    <tr>\n",
       "      <th>2</th>\n",
       "      <td>Chennai</td>\n",
       "      <td>2018</td>\n",
       "      <td>1.7</td>\n",
       "    </tr>\n",
       "    <tr>\n",
       "      <th>3</th>\n",
       "      <td>Nagput</td>\n",
       "      <td>2019</td>\n",
       "      <td>3.6</td>\n",
       "    </tr>\n",
       "    <tr>\n",
       "      <th>4</th>\n",
       "      <td>Delhi</td>\n",
       "      <td>2020</td>\n",
       "      <td>3.2</td>\n",
       "    </tr>\n",
       "  </tbody>\n",
       "</table>\n",
       "</div>"
      ],
      "text/plain": [
       "     State   year  pop\n",
       "0   Mumbai   2001  1.5\n",
       "1     Pune  20011  1.6\n",
       "2  Chennai   2018  1.7\n",
       "3   Nagput   2019  3.6\n",
       "4    Delhi   2020  3.2"
      ]
     },
     "execution_count": 51,
     "metadata": {},
     "output_type": "execute_result"
    }
   ],
   "source": [
    "df1.head() #head is used to fetch the top part of data"
   ]
  },
  {
   "cell_type": "markdown",
   "id": "7f95d93f",
   "metadata": {},
   "source": [
    "how to fetch last part of data"
   ]
  },
  {
   "cell_type": "code",
   "execution_count": 52,
   "id": "6863fbd2",
   "metadata": {},
   "outputs": [
    {
     "data": {
      "text/html": [
       "<div>\n",
       "<style scoped>\n",
       "    .dataframe tbody tr th:only-of-type {\n",
       "        vertical-align: middle;\n",
       "    }\n",
       "\n",
       "    .dataframe tbody tr th {\n",
       "        vertical-align: top;\n",
       "    }\n",
       "\n",
       "    .dataframe thead th {\n",
       "        text-align: right;\n",
       "    }\n",
       "</style>\n",
       "<table border=\"1\" class=\"dataframe\">\n",
       "  <thead>\n",
       "    <tr style=\"text-align: right;\">\n",
       "      <th></th>\n",
       "      <th>State</th>\n",
       "      <th>year</th>\n",
       "      <th>pop</th>\n",
       "    </tr>\n",
       "  </thead>\n",
       "  <tbody>\n",
       "    <tr>\n",
       "      <th>3</th>\n",
       "      <td>Nagput</td>\n",
       "      <td>2019</td>\n",
       "      <td>3.6</td>\n",
       "    </tr>\n",
       "    <tr>\n",
       "      <th>4</th>\n",
       "      <td>Delhi</td>\n",
       "      <td>2020</td>\n",
       "      <td>3.2</td>\n",
       "    </tr>\n",
       "  </tbody>\n",
       "</table>\n",
       "</div>"
      ],
      "text/plain": [
       "    State  year  pop\n",
       "3  Nagput  2019  3.6\n",
       "4   Delhi  2020  3.2"
      ]
     },
     "execution_count": 52,
     "metadata": {},
     "output_type": "execute_result"
    }
   ],
   "source": [
    "df1.tail(2)"
   ]
  },
  {
   "cell_type": "markdown",
   "id": "11ee2754",
   "metadata": {},
   "source": [
    "Custom indexing in pandas DataFrame"
   ]
  },
  {
   "cell_type": "code",
   "execution_count": 54,
   "id": "569169a5",
   "metadata": {},
   "outputs": [],
   "source": [
    "df2 = pd.DataFrame(\n",
    "    data,\n",
    "    index = ['one','two','three','four','five']\n",
    ")"
   ]
  },
  {
   "cell_type": "code",
   "execution_count": 55,
   "id": "3e553c3e",
   "metadata": {},
   "outputs": [
    {
     "data": {
      "text/html": [
       "<div>\n",
       "<style scoped>\n",
       "    .dataframe tbody tr th:only-of-type {\n",
       "        vertical-align: middle;\n",
       "    }\n",
       "\n",
       "    .dataframe tbody tr th {\n",
       "        vertical-align: top;\n",
       "    }\n",
       "\n",
       "    .dataframe thead th {\n",
       "        text-align: right;\n",
       "    }\n",
       "</style>\n",
       "<table border=\"1\" class=\"dataframe\">\n",
       "  <thead>\n",
       "    <tr style=\"text-align: right;\">\n",
       "      <th></th>\n",
       "      <th>State</th>\n",
       "      <th>year</th>\n",
       "      <th>pop</th>\n",
       "    </tr>\n",
       "  </thead>\n",
       "  <tbody>\n",
       "    <tr>\n",
       "      <th>one</th>\n",
       "      <td>Mumbai</td>\n",
       "      <td>2001</td>\n",
       "      <td>1.5</td>\n",
       "    </tr>\n",
       "    <tr>\n",
       "      <th>two</th>\n",
       "      <td>Pune</td>\n",
       "      <td>20011</td>\n",
       "      <td>1.6</td>\n",
       "    </tr>\n",
       "    <tr>\n",
       "      <th>three</th>\n",
       "      <td>Chennai</td>\n",
       "      <td>2018</td>\n",
       "      <td>1.7</td>\n",
       "    </tr>\n",
       "    <tr>\n",
       "      <th>four</th>\n",
       "      <td>Nagput</td>\n",
       "      <td>2019</td>\n",
       "      <td>3.6</td>\n",
       "    </tr>\n",
       "    <tr>\n",
       "      <th>five</th>\n",
       "      <td>Delhi</td>\n",
       "      <td>2020</td>\n",
       "      <td>3.2</td>\n",
       "    </tr>\n",
       "  </tbody>\n",
       "</table>\n",
       "</div>"
      ],
      "text/plain": [
       "         State   year  pop\n",
       "one     Mumbai   2001  1.5\n",
       "two       Pune  20011  1.6\n",
       "three  Chennai   2018  1.7\n",
       "four    Nagput   2019  3.6\n",
       "five     Delhi   2020  3.2"
      ]
     },
     "execution_count": 55,
     "metadata": {},
     "output_type": "execute_result"
    }
   ],
   "source": [
    "df2 "
   ]
  },
  {
   "cell_type": "code",
   "execution_count": 56,
   "id": "42b5005d",
   "metadata": {},
   "outputs": [
    {
     "data": {
      "text/plain": [
       "one       Mumbai\n",
       "two         Pune\n",
       "three    Chennai\n",
       "four      Nagput\n",
       "five       Delhi\n",
       "Name: State, dtype: object"
      ]
     },
     "execution_count": 56,
     "metadata": {},
     "output_type": "execute_result"
    }
   ],
   "source": [
    "df2['State']"
   ]
  },
  {
   "cell_type": "code",
   "execution_count": 57,
   "id": "5b75eeb9",
   "metadata": {},
   "outputs": [
    {
     "data": {
      "text/plain": [
       "one       2001\n",
       "two      20011\n",
       "three     2018\n",
       "four      2019\n",
       "five      2020\n",
       "Name: year, dtype: int64"
      ]
     },
     "execution_count": 57,
     "metadata": {},
     "output_type": "execute_result"
    }
   ],
   "source": [
    "df2['year']"
   ]
  },
  {
   "cell_type": "code",
   "execution_count": 58,
   "id": "88070e00",
   "metadata": {},
   "outputs": [
    {
     "data": {
      "text/plain": [
       "one      1.5\n",
       "two      1.6\n",
       "three    1.7\n",
       "four     3.6\n",
       "five     3.2\n",
       "Name: pop, dtype: float64"
      ]
     },
     "execution_count": 58,
     "metadata": {},
     "output_type": "execute_result"
    }
   ],
   "source": [
    "df2['pop']"
   ]
  },
  {
   "cell_type": "markdown",
   "id": "af76b18a",
   "metadata": {},
   "source": [
    "fetching data on basis of rows"
   ]
  },
  {
   "cell_type": "code",
   "execution_count": 59,
   "id": "84e3c02d",
   "metadata": {},
   "outputs": [
    {
     "data": {
      "text/html": [
       "<div>\n",
       "<style scoped>\n",
       "    .dataframe tbody tr th:only-of-type {\n",
       "        vertical-align: middle;\n",
       "    }\n",
       "\n",
       "    .dataframe tbody tr th {\n",
       "        vertical-align: top;\n",
       "    }\n",
       "\n",
       "    .dataframe thead th {\n",
       "        text-align: right;\n",
       "    }\n",
       "</style>\n",
       "<table border=\"1\" class=\"dataframe\">\n",
       "  <thead>\n",
       "    <tr style=\"text-align: right;\">\n",
       "      <th></th>\n",
       "      <th>State</th>\n",
       "      <th>year</th>\n",
       "      <th>pop</th>\n",
       "    </tr>\n",
       "  </thead>\n",
       "  <tbody>\n",
       "    <tr>\n",
       "      <th>one</th>\n",
       "      <td>Mumbai</td>\n",
       "      <td>2001</td>\n",
       "      <td>1.5</td>\n",
       "    </tr>\n",
       "    <tr>\n",
       "      <th>two</th>\n",
       "      <td>Pune</td>\n",
       "      <td>20011</td>\n",
       "      <td>1.6</td>\n",
       "    </tr>\n",
       "    <tr>\n",
       "      <th>three</th>\n",
       "      <td>Chennai</td>\n",
       "      <td>2018</td>\n",
       "      <td>1.7</td>\n",
       "    </tr>\n",
       "    <tr>\n",
       "      <th>four</th>\n",
       "      <td>Nagput</td>\n",
       "      <td>2019</td>\n",
       "      <td>3.6</td>\n",
       "    </tr>\n",
       "    <tr>\n",
       "      <th>five</th>\n",
       "      <td>Delhi</td>\n",
       "      <td>2020</td>\n",
       "      <td>3.2</td>\n",
       "    </tr>\n",
       "  </tbody>\n",
       "</table>\n",
       "</div>"
      ],
      "text/plain": [
       "         State   year  pop\n",
       "one     Mumbai   2001  1.5\n",
       "two       Pune  20011  1.6\n",
       "three  Chennai   2018  1.7\n",
       "four    Nagput   2019  3.6\n",
       "five     Delhi   2020  3.2"
      ]
     },
     "execution_count": 59,
     "metadata": {},
     "output_type": "execute_result"
    }
   ],
   "source": [
    "df2"
   ]
  },
  {
   "cell_type": "code",
   "execution_count": 61,
   "id": "89532beb",
   "metadata": {},
   "outputs": [
    {
     "data": {
      "text/plain": [
       "State    Nagput\n",
       "year       2019\n",
       "pop         3.6\n",
       "Name: four, dtype: object"
      ]
     },
     "execution_count": 61,
     "metadata": {},
     "output_type": "execute_result"
    }
   ],
   "source": [
    "df2.loc['four']"
   ]
  },
  {
   "cell_type": "raw",
   "id": "452b811f",
   "metadata": {},
   "source": [
    "loc for custom indexes\n",
    "iloc for default indexes (zero based indexing)"
   ]
  },
  {
   "cell_type": "code",
   "execution_count": null,
   "id": "d3b1fe18",
   "metadata": {},
   "outputs": [],
   "source": []
  },
  {
   "cell_type": "markdown",
   "id": "ce44fe79",
   "metadata": {},
   "source": [
    "How to add new columns to DataFrame"
   ]
  },
  {
   "cell_type": "code",
   "execution_count": 62,
   "id": "6a81c72e",
   "metadata": {},
   "outputs": [],
   "source": [
    "df2['country'] = 'India'"
   ]
  },
  {
   "cell_type": "code",
   "execution_count": 63,
   "id": "c0eb8882",
   "metadata": {},
   "outputs": [
    {
     "data": {
      "text/html": [
       "<div>\n",
       "<style scoped>\n",
       "    .dataframe tbody tr th:only-of-type {\n",
       "        vertical-align: middle;\n",
       "    }\n",
       "\n",
       "    .dataframe tbody tr th {\n",
       "        vertical-align: top;\n",
       "    }\n",
       "\n",
       "    .dataframe thead th {\n",
       "        text-align: right;\n",
       "    }\n",
       "</style>\n",
       "<table border=\"1\" class=\"dataframe\">\n",
       "  <thead>\n",
       "    <tr style=\"text-align: right;\">\n",
       "      <th></th>\n",
       "      <th>State</th>\n",
       "      <th>year</th>\n",
       "      <th>pop</th>\n",
       "      <th>country</th>\n",
       "    </tr>\n",
       "  </thead>\n",
       "  <tbody>\n",
       "    <tr>\n",
       "      <th>one</th>\n",
       "      <td>Mumbai</td>\n",
       "      <td>2001</td>\n",
       "      <td>1.5</td>\n",
       "      <td>India</td>\n",
       "    </tr>\n",
       "    <tr>\n",
       "      <th>two</th>\n",
       "      <td>Pune</td>\n",
       "      <td>20011</td>\n",
       "      <td>1.6</td>\n",
       "      <td>India</td>\n",
       "    </tr>\n",
       "    <tr>\n",
       "      <th>three</th>\n",
       "      <td>Chennai</td>\n",
       "      <td>2018</td>\n",
       "      <td>1.7</td>\n",
       "      <td>India</td>\n",
       "    </tr>\n",
       "    <tr>\n",
       "      <th>four</th>\n",
       "      <td>Nagput</td>\n",
       "      <td>2019</td>\n",
       "      <td>3.6</td>\n",
       "      <td>India</td>\n",
       "    </tr>\n",
       "    <tr>\n",
       "      <th>five</th>\n",
       "      <td>Delhi</td>\n",
       "      <td>2020</td>\n",
       "      <td>3.2</td>\n",
       "      <td>India</td>\n",
       "    </tr>\n",
       "  </tbody>\n",
       "</table>\n",
       "</div>"
      ],
      "text/plain": [
       "         State   year  pop country\n",
       "one     Mumbai   2001  1.5   India\n",
       "two       Pune  20011  1.6   India\n",
       "three  Chennai   2018  1.7   India\n",
       "four    Nagput   2019  3.6   India\n",
       "five     Delhi   2020  3.2   India"
      ]
     },
     "execution_count": 63,
     "metadata": {},
     "output_type": "execute_result"
    }
   ],
   "source": [
    "df2 "
   ]
  },
  {
   "cell_type": "code",
   "execution_count": null,
   "id": "12360303",
   "metadata": {},
   "outputs": [],
   "source": []
  },
  {
   "cell_type": "markdown",
   "id": "1f0d4dab",
   "metadata": {},
   "source": [
    "Fetching data on basis of default indexing (i.e. Zero based indexing)"
   ]
  },
  {
   "cell_type": "code",
   "execution_count": 64,
   "id": "3761508c",
   "metadata": {},
   "outputs": [
    {
     "data": {
      "text/plain": [
       "State      Chennai\n",
       "year          2018\n",
       "pop            1.7\n",
       "country      India\n",
       "Name: three, dtype: object"
      ]
     },
     "execution_count": 64,
     "metadata": {},
     "output_type": "execute_result"
    }
   ],
   "source": [
    "df2.iloc[2]"
   ]
  },
  {
   "cell_type": "markdown",
   "id": "b985d3af",
   "metadata": {},
   "source": [
    "NOTE : "
   ]
  },
  {
   "cell_type": "raw",
   "id": "bf88bd56",
   "metadata": {},
   "source": [
    "loc for custom indexes\n",
    "iloc for default indexes (zero based indexing)"
   ]
  },
  {
   "cell_type": "code",
   "execution_count": 65,
   "id": "0bf30f1e",
   "metadata": {},
   "outputs": [],
   "source": [
    "df2['debt'] = np.arange(1,6)"
   ]
  },
  {
   "cell_type": "code",
   "execution_count": 66,
   "id": "b8f048ec",
   "metadata": {},
   "outputs": [
    {
     "data": {
      "text/html": [
       "<div>\n",
       "<style scoped>\n",
       "    .dataframe tbody tr th:only-of-type {\n",
       "        vertical-align: middle;\n",
       "    }\n",
       "\n",
       "    .dataframe tbody tr th {\n",
       "        vertical-align: top;\n",
       "    }\n",
       "\n",
       "    .dataframe thead th {\n",
       "        text-align: right;\n",
       "    }\n",
       "</style>\n",
       "<table border=\"1\" class=\"dataframe\">\n",
       "  <thead>\n",
       "    <tr style=\"text-align: right;\">\n",
       "      <th></th>\n",
       "      <th>State</th>\n",
       "      <th>year</th>\n",
       "      <th>pop</th>\n",
       "      <th>country</th>\n",
       "      <th>debt</th>\n",
       "    </tr>\n",
       "  </thead>\n",
       "  <tbody>\n",
       "    <tr>\n",
       "      <th>one</th>\n",
       "      <td>Mumbai</td>\n",
       "      <td>2001</td>\n",
       "      <td>1.5</td>\n",
       "      <td>India</td>\n",
       "      <td>1</td>\n",
       "    </tr>\n",
       "    <tr>\n",
       "      <th>two</th>\n",
       "      <td>Pune</td>\n",
       "      <td>20011</td>\n",
       "      <td>1.6</td>\n",
       "      <td>India</td>\n",
       "      <td>2</td>\n",
       "    </tr>\n",
       "    <tr>\n",
       "      <th>three</th>\n",
       "      <td>Chennai</td>\n",
       "      <td>2018</td>\n",
       "      <td>1.7</td>\n",
       "      <td>India</td>\n",
       "      <td>3</td>\n",
       "    </tr>\n",
       "    <tr>\n",
       "      <th>four</th>\n",
       "      <td>Nagput</td>\n",
       "      <td>2019</td>\n",
       "      <td>3.6</td>\n",
       "      <td>India</td>\n",
       "      <td>4</td>\n",
       "    </tr>\n",
       "    <tr>\n",
       "      <th>five</th>\n",
       "      <td>Delhi</td>\n",
       "      <td>2020</td>\n",
       "      <td>3.2</td>\n",
       "      <td>India</td>\n",
       "      <td>5</td>\n",
       "    </tr>\n",
       "  </tbody>\n",
       "</table>\n",
       "</div>"
      ],
      "text/plain": [
       "         State   year  pop country  debt\n",
       "one     Mumbai   2001  1.5   India     1\n",
       "two       Pune  20011  1.6   India     2\n",
       "three  Chennai   2018  1.7   India     3\n",
       "four    Nagput   2019  3.6   India     4\n",
       "five     Delhi   2020  3.2   India     5"
      ]
     },
     "execution_count": 66,
     "metadata": {},
     "output_type": "execute_result"
    }
   ],
   "source": [
    "df2"
   ]
  },
  {
   "cell_type": "code",
   "execution_count": null,
   "id": "8363f133",
   "metadata": {},
   "outputs": [],
   "source": []
  },
  {
   "cell_type": "markdown",
   "id": "70471d2f",
   "metadata": {},
   "source": [
    "How to delete perticular column"
   ]
  },
  {
   "cell_type": "code",
   "execution_count": 67,
   "id": "801419bf",
   "metadata": {},
   "outputs": [],
   "source": [
    "del(df2['country'])"
   ]
  },
  {
   "cell_type": "code",
   "execution_count": 68,
   "id": "ce1391a5",
   "metadata": {},
   "outputs": [
    {
     "data": {
      "text/html": [
       "<div>\n",
       "<style scoped>\n",
       "    .dataframe tbody tr th:only-of-type {\n",
       "        vertical-align: middle;\n",
       "    }\n",
       "\n",
       "    .dataframe tbody tr th {\n",
       "        vertical-align: top;\n",
       "    }\n",
       "\n",
       "    .dataframe thead th {\n",
       "        text-align: right;\n",
       "    }\n",
       "</style>\n",
       "<table border=\"1\" class=\"dataframe\">\n",
       "  <thead>\n",
       "    <tr style=\"text-align: right;\">\n",
       "      <th></th>\n",
       "      <th>State</th>\n",
       "      <th>year</th>\n",
       "      <th>pop</th>\n",
       "      <th>debt</th>\n",
       "    </tr>\n",
       "  </thead>\n",
       "  <tbody>\n",
       "    <tr>\n",
       "      <th>one</th>\n",
       "      <td>Mumbai</td>\n",
       "      <td>2001</td>\n",
       "      <td>1.5</td>\n",
       "      <td>1</td>\n",
       "    </tr>\n",
       "    <tr>\n",
       "      <th>two</th>\n",
       "      <td>Pune</td>\n",
       "      <td>20011</td>\n",
       "      <td>1.6</td>\n",
       "      <td>2</td>\n",
       "    </tr>\n",
       "    <tr>\n",
       "      <th>three</th>\n",
       "      <td>Chennai</td>\n",
       "      <td>2018</td>\n",
       "      <td>1.7</td>\n",
       "      <td>3</td>\n",
       "    </tr>\n",
       "    <tr>\n",
       "      <th>four</th>\n",
       "      <td>Nagput</td>\n",
       "      <td>2019</td>\n",
       "      <td>3.6</td>\n",
       "      <td>4</td>\n",
       "    </tr>\n",
       "    <tr>\n",
       "      <th>five</th>\n",
       "      <td>Delhi</td>\n",
       "      <td>2020</td>\n",
       "      <td>3.2</td>\n",
       "      <td>5</td>\n",
       "    </tr>\n",
       "  </tbody>\n",
       "</table>\n",
       "</div>"
      ],
      "text/plain": [
       "         State   year  pop  debt\n",
       "one     Mumbai   2001  1.5     1\n",
       "two       Pune  20011  1.6     2\n",
       "three  Chennai   2018  1.7     3\n",
       "four    Nagput   2019  3.6     4\n",
       "five     Delhi   2020  3.2     5"
      ]
     },
     "execution_count": 68,
     "metadata": {},
     "output_type": "execute_result"
    }
   ],
   "source": [
    "df2"
   ]
  },
  {
   "cell_type": "code",
   "execution_count": 69,
   "id": "ea7bddfe",
   "metadata": {},
   "outputs": [],
   "source": [
    "df2['country'] = 'India'"
   ]
  },
  {
   "cell_type": "code",
   "execution_count": 70,
   "id": "f118bafa",
   "metadata": {},
   "outputs": [
    {
     "data": {
      "text/html": [
       "<div>\n",
       "<style scoped>\n",
       "    .dataframe tbody tr th:only-of-type {\n",
       "        vertical-align: middle;\n",
       "    }\n",
       "\n",
       "    .dataframe tbody tr th {\n",
       "        vertical-align: top;\n",
       "    }\n",
       "\n",
       "    .dataframe thead th {\n",
       "        text-align: right;\n",
       "    }\n",
       "</style>\n",
       "<table border=\"1\" class=\"dataframe\">\n",
       "  <thead>\n",
       "    <tr style=\"text-align: right;\">\n",
       "      <th></th>\n",
       "      <th>State</th>\n",
       "      <th>year</th>\n",
       "      <th>pop</th>\n",
       "      <th>debt</th>\n",
       "      <th>country</th>\n",
       "    </tr>\n",
       "  </thead>\n",
       "  <tbody>\n",
       "    <tr>\n",
       "      <th>one</th>\n",
       "      <td>Mumbai</td>\n",
       "      <td>2001</td>\n",
       "      <td>1.5</td>\n",
       "      <td>1</td>\n",
       "      <td>India</td>\n",
       "    </tr>\n",
       "    <tr>\n",
       "      <th>two</th>\n",
       "      <td>Pune</td>\n",
       "      <td>20011</td>\n",
       "      <td>1.6</td>\n",
       "      <td>2</td>\n",
       "      <td>India</td>\n",
       "    </tr>\n",
       "    <tr>\n",
       "      <th>three</th>\n",
       "      <td>Chennai</td>\n",
       "      <td>2018</td>\n",
       "      <td>1.7</td>\n",
       "      <td>3</td>\n",
       "      <td>India</td>\n",
       "    </tr>\n",
       "    <tr>\n",
       "      <th>four</th>\n",
       "      <td>Nagput</td>\n",
       "      <td>2019</td>\n",
       "      <td>3.6</td>\n",
       "      <td>4</td>\n",
       "      <td>India</td>\n",
       "    </tr>\n",
       "    <tr>\n",
       "      <th>five</th>\n",
       "      <td>Delhi</td>\n",
       "      <td>2020</td>\n",
       "      <td>3.2</td>\n",
       "      <td>5</td>\n",
       "      <td>India</td>\n",
       "    </tr>\n",
       "  </tbody>\n",
       "</table>\n",
       "</div>"
      ],
      "text/plain": [
       "         State   year  pop  debt country\n",
       "one     Mumbai   2001  1.5     1   India\n",
       "two       Pune  20011  1.6     2   India\n",
       "three  Chennai   2018  1.7     3   India\n",
       "four    Nagput   2019  3.6     4   India\n",
       "five     Delhi   2020  3.2     5   India"
      ]
     },
     "execution_count": 70,
     "metadata": {},
     "output_type": "execute_result"
    }
   ],
   "source": [
    "df2"
   ]
  },
  {
   "cell_type": "code",
   "execution_count": 71,
   "id": "14c561f2",
   "metadata": {},
   "outputs": [],
   "source": [
    "start = 100\n",
    "end = 600\n",
    "step = 100\n",
    "df2['budget'] = np.arange(start,end,step)\n"
   ]
  },
  {
   "cell_type": "code",
   "execution_count": 72,
   "id": "7742ed09",
   "metadata": {},
   "outputs": [
    {
     "data": {
      "text/html": [
       "<div>\n",
       "<style scoped>\n",
       "    .dataframe tbody tr th:only-of-type {\n",
       "        vertical-align: middle;\n",
       "    }\n",
       "\n",
       "    .dataframe tbody tr th {\n",
       "        vertical-align: top;\n",
       "    }\n",
       "\n",
       "    .dataframe thead th {\n",
       "        text-align: right;\n",
       "    }\n",
       "</style>\n",
       "<table border=\"1\" class=\"dataframe\">\n",
       "  <thead>\n",
       "    <tr style=\"text-align: right;\">\n",
       "      <th></th>\n",
       "      <th>State</th>\n",
       "      <th>year</th>\n",
       "      <th>pop</th>\n",
       "      <th>debt</th>\n",
       "      <th>country</th>\n",
       "      <th>budget</th>\n",
       "    </tr>\n",
       "  </thead>\n",
       "  <tbody>\n",
       "    <tr>\n",
       "      <th>one</th>\n",
       "      <td>Mumbai</td>\n",
       "      <td>2001</td>\n",
       "      <td>1.5</td>\n",
       "      <td>1</td>\n",
       "      <td>India</td>\n",
       "      <td>100</td>\n",
       "    </tr>\n",
       "    <tr>\n",
       "      <th>two</th>\n",
       "      <td>Pune</td>\n",
       "      <td>20011</td>\n",
       "      <td>1.6</td>\n",
       "      <td>2</td>\n",
       "      <td>India</td>\n",
       "      <td>200</td>\n",
       "    </tr>\n",
       "    <tr>\n",
       "      <th>three</th>\n",
       "      <td>Chennai</td>\n",
       "      <td>2018</td>\n",
       "      <td>1.7</td>\n",
       "      <td>3</td>\n",
       "      <td>India</td>\n",
       "      <td>300</td>\n",
       "    </tr>\n",
       "    <tr>\n",
       "      <th>four</th>\n",
       "      <td>Nagput</td>\n",
       "      <td>2019</td>\n",
       "      <td>3.6</td>\n",
       "      <td>4</td>\n",
       "      <td>India</td>\n",
       "      <td>400</td>\n",
       "    </tr>\n",
       "    <tr>\n",
       "      <th>five</th>\n",
       "      <td>Delhi</td>\n",
       "      <td>2020</td>\n",
       "      <td>3.2</td>\n",
       "      <td>5</td>\n",
       "      <td>India</td>\n",
       "      <td>500</td>\n",
       "    </tr>\n",
       "  </tbody>\n",
       "</table>\n",
       "</div>"
      ],
      "text/plain": [
       "         State   year  pop  debt country  budget\n",
       "one     Mumbai   2001  1.5     1   India     100\n",
       "two       Pune  20011  1.6     2   India     200\n",
       "three  Chennai   2018  1.7     3   India     300\n",
       "four    Nagput   2019  3.6     4   India     400\n",
       "five     Delhi   2020  3.2     5   India     500"
      ]
     },
     "execution_count": 72,
     "metadata": {},
     "output_type": "execute_result"
    }
   ],
   "source": [
    "df2"
   ]
  },
  {
   "cell_type": "code",
   "execution_count": 73,
   "id": "13c05d31",
   "metadata": {},
   "outputs": [
    {
     "data": {
      "text/plain": [
       "one      100\n",
       "two      200\n",
       "three    300\n",
       "four     400\n",
       "five     500\n",
       "Name: budget, dtype: int32"
      ]
     },
     "execution_count": 73,
     "metadata": {},
     "output_type": "execute_result"
    }
   ],
   "source": [
    "df2['budget']"
   ]
  },
  {
   "cell_type": "code",
   "execution_count": 74,
   "id": "7162f6b7",
   "metadata": {},
   "outputs": [
    {
     "name": "stderr",
     "output_type": "stream",
     "text": [
      "<ipython-input-74-8e8bf2e5a899>:1: SettingWithCopyWarning: \n",
      "A value is trying to be set on a copy of a slice from a DataFrame\n",
      "\n",
      "See the caveats in the documentation: https://pandas.pydata.org/pandas-docs/stable/user_guide/indexing.html#returning-a-view-versus-a-copy\n",
      "  df2['budget']['three']=3000\n"
     ]
    }
   ],
   "source": [
    "df2['budget']['three']=3000"
   ]
  },
  {
   "cell_type": "code",
   "execution_count": 75,
   "id": "1f0bd64f",
   "metadata": {},
   "outputs": [
    {
     "data": {
      "text/html": [
       "<div>\n",
       "<style scoped>\n",
       "    .dataframe tbody tr th:only-of-type {\n",
       "        vertical-align: middle;\n",
       "    }\n",
       "\n",
       "    .dataframe tbody tr th {\n",
       "        vertical-align: top;\n",
       "    }\n",
       "\n",
       "    .dataframe thead th {\n",
       "        text-align: right;\n",
       "    }\n",
       "</style>\n",
       "<table border=\"1\" class=\"dataframe\">\n",
       "  <thead>\n",
       "    <tr style=\"text-align: right;\">\n",
       "      <th></th>\n",
       "      <th>State</th>\n",
       "      <th>year</th>\n",
       "      <th>pop</th>\n",
       "      <th>debt</th>\n",
       "      <th>country</th>\n",
       "      <th>budget</th>\n",
       "    </tr>\n",
       "  </thead>\n",
       "  <tbody>\n",
       "    <tr>\n",
       "      <th>one</th>\n",
       "      <td>Mumbai</td>\n",
       "      <td>2001</td>\n",
       "      <td>1.5</td>\n",
       "      <td>1</td>\n",
       "      <td>India</td>\n",
       "      <td>100</td>\n",
       "    </tr>\n",
       "    <tr>\n",
       "      <th>two</th>\n",
       "      <td>Pune</td>\n",
       "      <td>20011</td>\n",
       "      <td>1.6</td>\n",
       "      <td>2</td>\n",
       "      <td>India</td>\n",
       "      <td>200</td>\n",
       "    </tr>\n",
       "    <tr>\n",
       "      <th>three</th>\n",
       "      <td>Chennai</td>\n",
       "      <td>2018</td>\n",
       "      <td>1.7</td>\n",
       "      <td>3</td>\n",
       "      <td>India</td>\n",
       "      <td>3000</td>\n",
       "    </tr>\n",
       "    <tr>\n",
       "      <th>four</th>\n",
       "      <td>Nagput</td>\n",
       "      <td>2019</td>\n",
       "      <td>3.6</td>\n",
       "      <td>4</td>\n",
       "      <td>India</td>\n",
       "      <td>400</td>\n",
       "    </tr>\n",
       "    <tr>\n",
       "      <th>five</th>\n",
       "      <td>Delhi</td>\n",
       "      <td>2020</td>\n",
       "      <td>3.2</td>\n",
       "      <td>5</td>\n",
       "      <td>India</td>\n",
       "      <td>500</td>\n",
       "    </tr>\n",
       "  </tbody>\n",
       "</table>\n",
       "</div>"
      ],
      "text/plain": [
       "         State   year  pop  debt country  budget\n",
       "one     Mumbai   2001  1.5     1   India     100\n",
       "two       Pune  20011  1.6     2   India     200\n",
       "three  Chennai   2018  1.7     3   India    3000\n",
       "four    Nagput   2019  3.6     4   India     400\n",
       "five     Delhi   2020  3.2     5   India     500"
      ]
     },
     "execution_count": 75,
     "metadata": {},
     "output_type": "execute_result"
    }
   ],
   "source": [
    "df2"
   ]
  },
  {
   "cell_type": "code",
   "execution_count": null,
   "id": "da940f14",
   "metadata": {},
   "outputs": [],
   "source": []
  },
  {
   "cell_type": "markdown",
   "id": "7f5c946d",
   "metadata": {},
   "source": [
    "## index objects "
   ]
  },
  {
   "cell_type": "code",
   "execution_count": 77,
   "id": "48311f7a",
   "metadata": {},
   "outputs": [],
   "source": [
    "obj = pd.Series(\n",
    "    range(3),\n",
    "    index = ['a','b','c']\n",
    ")"
   ]
  },
  {
   "cell_type": "code",
   "execution_count": 78,
   "id": "8f78df5f",
   "metadata": {},
   "outputs": [
    {
     "data": {
      "text/plain": [
       "a    0\n",
       "b    1\n",
       "c    2\n",
       "dtype: int64"
      ]
     },
     "execution_count": 78,
     "metadata": {},
     "output_type": "execute_result"
    }
   ],
   "source": [
    "obj"
   ]
  },
  {
   "cell_type": "code",
   "execution_count": 80,
   "id": "7612e054",
   "metadata": {},
   "outputs": [
    {
     "data": {
      "text/plain": [
       "Index(['a', 'b', 'c'], dtype='object')"
      ]
     },
     "execution_count": 80,
     "metadata": {},
     "output_type": "execute_result"
    }
   ],
   "source": [
    "obj.index\n",
    "# this will give/return indexes of series"
   ]
  },
  {
   "cell_type": "code",
   "execution_count": 81,
   "id": "f494e2df",
   "metadata": {},
   "outputs": [],
   "source": [
    "indexes = obj.index"
   ]
  },
  {
   "cell_type": "code",
   "execution_count": 82,
   "id": "b665a99f",
   "metadata": {},
   "outputs": [
    {
     "data": {
      "text/plain": [
       "Index(['a', 'b', 'c'], dtype='object')"
      ]
     },
     "execution_count": 82,
     "metadata": {},
     "output_type": "execute_result"
    }
   ],
   "source": [
    "indexes"
   ]
  },
  {
   "cell_type": "code",
   "execution_count": 83,
   "id": "2aef5b04",
   "metadata": {},
   "outputs": [
    {
     "data": {
      "text/plain": [
       "'a'"
      ]
     },
     "execution_count": 83,
     "metadata": {},
     "output_type": "execute_result"
    }
   ],
   "source": [
    "index[0]"
   ]
  },
  {
   "cell_type": "markdown",
   "id": "ce775f69",
   "metadata": {},
   "source": [
    "NOTE :"
   ]
  },
  {
   "cell_type": "raw",
   "id": "1d2a6607",
   "metadata": {},
   "source": [
    "here you only can access indexs of series but you can't change them"
   ]
  },
  {
   "cell_type": "code",
   "execution_count": null,
   "id": "55aa6227",
   "metadata": {},
   "outputs": [],
   "source": []
  },
  {
   "cell_type": "code",
   "execution_count": 84,
   "id": "c45a02a8",
   "metadata": {},
   "outputs": [
    {
     "data": {
      "text/plain": [
       "Index(['one', 'two', 'three', 'four', 'five'], dtype='object')"
      ]
     },
     "execution_count": 84,
     "metadata": {},
     "output_type": "execute_result"
    }
   ],
   "source": [
    "df2.index"
   ]
  },
  {
   "cell_type": "code",
   "execution_count": 85,
   "id": "ebcaceec",
   "metadata": {},
   "outputs": [],
   "source": [
    "indexes_2 = df2.index"
   ]
  },
  {
   "cell_type": "code",
   "execution_count": 86,
   "id": "6aef6f9b",
   "metadata": {},
   "outputs": [
    {
     "data": {
      "text/plain": [
       "Index(['one', 'two', 'three', 'four', 'five'], dtype='object')"
      ]
     },
     "execution_count": 86,
     "metadata": {},
     "output_type": "execute_result"
    }
   ],
   "source": [
    "indexes_2"
   ]
  },
  {
   "cell_type": "code",
   "execution_count": 87,
   "id": "4cb1e9c0",
   "metadata": {},
   "outputs": [
    {
     "data": {
      "text/plain": [
       "'four'"
      ]
     },
     "execution_count": 87,
     "metadata": {},
     "output_type": "execute_result"
    }
   ],
   "source": [
    "indexes_2[3]"
   ]
  },
  {
   "cell_type": "code",
   "execution_count": null,
   "id": "6021cbb7",
   "metadata": {},
   "outputs": [],
   "source": []
  },
  {
   "cell_type": "markdown",
   "id": "637a0cb0",
   "metadata": {},
   "source": [
    "## Re-indexing"
   ]
  },
  {
   "cell_type": "code",
   "execution_count": null,
   "id": "98d0c44e",
   "metadata": {},
   "outputs": [],
   "source": []
  },
  {
   "cell_type": "code",
   "execution_count": 88,
   "id": "1e7311c8",
   "metadata": {},
   "outputs": [],
   "source": [
    "series_13 = pd.Series(\n",
    "    [4.1,7.5,-8.3,3.6],\n",
    "    index = ['d','b','a','c']\n",
    ")"
   ]
  },
  {
   "cell_type": "code",
   "execution_count": 89,
   "id": "0889e5f5",
   "metadata": {},
   "outputs": [
    {
     "data": {
      "text/plain": [
       "d    4.1\n",
       "b    7.5\n",
       "a   -8.3\n",
       "c    3.6\n",
       "dtype: float64"
      ]
     },
     "execution_count": 89,
     "metadata": {},
     "output_type": "execute_result"
    }
   ],
   "source": [
    "series_13"
   ]
  },
  {
   "cell_type": "code",
   "execution_count": 90,
   "id": "f14a56cc",
   "metadata": {},
   "outputs": [
    {
     "data": {
      "text/plain": [
       "a   -8.3\n",
       "b    7.5\n",
       "c    3.6\n",
       "d    4.1\n",
       "dtype: float64"
      ]
     },
     "execution_count": 90,
     "metadata": {},
     "output_type": "execute_result"
    }
   ],
   "source": [
    "series_13.reindex(['a','b','c','d'])"
   ]
  },
  {
   "cell_type": "code",
   "execution_count": null,
   "id": "43b9b2ba",
   "metadata": {},
   "outputs": [],
   "source": []
  },
  {
   "cell_type": "code",
   "execution_count": null,
   "id": "55aa4b63",
   "metadata": {},
   "outputs": [],
   "source": []
  },
  {
   "cell_type": "code",
   "execution_count": null,
   "id": "a4c7f57e",
   "metadata": {},
   "outputs": [],
   "source": []
  },
  {
   "cell_type": "code",
   "execution_count": null,
   "id": "a76ded3c",
   "metadata": {},
   "outputs": [],
   "source": []
  }
 ],
 "metadata": {
  "kernelspec": {
   "display_name": "Python 3",
   "language": "python",
   "name": "python3"
  },
  "language_info": {
   "codemirror_mode": {
    "name": "ipython",
    "version": 3
   },
   "file_extension": ".py",
   "mimetype": "text/x-python",
   "name": "python",
   "nbconvert_exporter": "python",
   "pygments_lexer": "ipython3",
   "version": "3.8.8"
  }
 },
 "nbformat": 4,
 "nbformat_minor": 5
}
